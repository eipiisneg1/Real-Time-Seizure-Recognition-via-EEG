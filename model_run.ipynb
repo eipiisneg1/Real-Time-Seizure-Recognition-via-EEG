{
 "cells": [
  {
   "cell_type": "markdown",
   "source": [
    "Using EEG data from CHB and creating a custom OOP Python program using a wide-range of higher mathematics involving Linear Algebra and Non-Linear Dynamics, I created proprietary model to provide the likelihood that the EEG readings from any patient at any moment in time can accurately say if the patient is in a seizure or not."
   ],
   "metadata": {
    "collapsed": false
   }
  },
  {
   "cell_type": "code",
   "execution_count": 14,
   "outputs": [
    {
     "name": "stderr",
     "output_type": "stream",
     "text": [
      "/var/folders/lc/nbgy6kvs4bzdy9cwsd9m4f600000gn/T/ipykernel_6347/2684665916.py:4: SettingWithCopyWarning: \n",
      "A value is trying to be set on a copy of a slice from a DataFrame\n",
      "\n",
      "See the caveats in the documentation: https://pandas.pydata.org/pandas-docs/stable/user_guide/indexing.html#returning-a-view-versus-a-copy\n",
      "  model_training_df['seizure'].iloc[10239:] = 1\n"
     ]
    },
    {
     "name": "stdout",
     "output_type": "stream",
     "text": [
      "1/1 [==============================] - 0s 421ms/step\n",
      "1/1 [==============================] - 0s 202ms/step\n"
     ]
    }
   ],
   "source": [
    "file_model_train = '/Users/jshensley/Desktop/Cap3_Nico_MUSC/seizure_algo/dataframes/model_df.csv'\n",
    "model_training_df = pd.read_csv(file_model_train)\n",
    "model_training_df['seizure'] = 0\n",
    "model_training_df['seizure'].iloc[10239:] = 1\n",
    "\n",
    "loaded_h5_model = tf.keras.models.load_model(\"best_model_HDF5_format.h5\")\n",
    "\n",
    "# ------------------------------------------------------------------------------------------\n",
    "# ------------------------------------------------------------------------------------------\n",
    "file_18 = '/Users/jshensley/Desktop/Cap3_Nico_MUSC/seizure_algo/dataframes/model18_df.csv'\n",
    "df_18 = pd.read_csv(file_18)\n",
    "df_18.drop(['Unnamed: 0'], axis=1, inplace=True)\n",
    "df_18.drop([20478], inplace=True)\n",
    "df_18.fillna(method='ffill', inplace=True)\n",
    "\n",
    "predict_18_nump = df_18.to_numpy()\n",
    "predict_18_nump = predict_18_nump[None, :, :]\n",
    "predict_18 = loaded_h5_model.predict(predict_18_nump)\n",
    "predict_18 = np.squeeze(predict_18)\n",
    "\n",
    "predict_18_series = pd.Series(predict_18, name='predict_18')\n",
    "predict_18_series.drop([0], inplace=True)\n",
    "\n",
    "\n",
    "# ------------------------------------------------------------------------------------------\n",
    "# ------------------------------------------------------------------------------------------\n",
    "file_vns = '/Users/jshensley/Desktop/Cap3_Nico_MUSC/seizure_algo/dataframes/model_vns_df.csv'\n",
    "df_vns = pd.read_csv(file_vns)\n",
    "df_vns.drop('Unnamed: 0', axis=1, inplace=True)\n",
    "df_vns.drop([20478], inplace=True)\n",
    "df_vns.fillna(method='ffill', inplace=True)\n",
    "\n",
    "predict_vns_nump = df_vns.to_numpy()\n",
    "predict_vns_nump = predict_vns_nump[None, :, :]\n",
    "predict_vns = loaded_h5_model.predict(predict_vns_nump)\n",
    "predict_vns = np.squeeze(predict_vns)\n",
    "\n",
    "predict_vns_series = pd.Series(predict_vns, name='predict_vns')\n",
    "predict_vns_series.drop([0], inplace=True)\n",
    "accuracy = pd.concat([predict_18_series, predict_vns_series, model_training_df['seizure']], axis=1)"
   ],
   "metadata": {
    "collapsed": false
   }
  },
  {
   "cell_type": "code",
   "execution_count": 16,
   "outputs": [
    {
     "data": {
      "text/plain": "       predict_18  predict_vns  seizure\n1        0.007238     0.001046        0\n2        0.007056     0.001043        0\n3        0.006935     0.001033        0\n4        0.007337     0.001095        0\n5        0.007025     0.001134        0\n...           ...          ...      ...\n20474    0.992988     0.998941        1\n20475    0.992786     0.998936        1\n20476    0.992934     0.998986        1\n20477    0.992649     0.998928        1\n0             NaN          NaN        0\n\n[20478 rows x 3 columns]",
      "text/html": "<div>\n<style scoped>\n    .dataframe tbody tr th:only-of-type {\n        vertical-align: middle;\n    }\n\n    .dataframe tbody tr th {\n        vertical-align: top;\n    }\n\n    .dataframe thead th {\n        text-align: right;\n    }\n</style>\n<table border=\"1\" class=\"dataframe\">\n  <thead>\n    <tr style=\"text-align: right;\">\n      <th></th>\n      <th>predict_18</th>\n      <th>predict_vns</th>\n      <th>seizure</th>\n    </tr>\n  </thead>\n  <tbody>\n    <tr>\n      <th>1</th>\n      <td>0.007238</td>\n      <td>0.001046</td>\n      <td>0</td>\n    </tr>\n    <tr>\n      <th>2</th>\n      <td>0.007056</td>\n      <td>0.001043</td>\n      <td>0</td>\n    </tr>\n    <tr>\n      <th>3</th>\n      <td>0.006935</td>\n      <td>0.001033</td>\n      <td>0</td>\n    </tr>\n    <tr>\n      <th>4</th>\n      <td>0.007337</td>\n      <td>0.001095</td>\n      <td>0</td>\n    </tr>\n    <tr>\n      <th>5</th>\n      <td>0.007025</td>\n      <td>0.001134</td>\n      <td>0</td>\n    </tr>\n    <tr>\n      <th>...</th>\n      <td>...</td>\n      <td>...</td>\n      <td>...</td>\n    </tr>\n    <tr>\n      <th>20474</th>\n      <td>0.992988</td>\n      <td>0.998941</td>\n      <td>1</td>\n    </tr>\n    <tr>\n      <th>20475</th>\n      <td>0.992786</td>\n      <td>0.998936</td>\n      <td>1</td>\n    </tr>\n    <tr>\n      <th>20476</th>\n      <td>0.992934</td>\n      <td>0.998986</td>\n      <td>1</td>\n    </tr>\n    <tr>\n      <th>20477</th>\n      <td>0.992649</td>\n      <td>0.998928</td>\n      <td>1</td>\n    </tr>\n    <tr>\n      <th>0</th>\n      <td>NaN</td>\n      <td>NaN</td>\n      <td>0</td>\n    </tr>\n  </tbody>\n</table>\n<p>20478 rows × 3 columns</p>\n</div>"
     },
     "execution_count": 16,
     "metadata": {},
     "output_type": "execute_result"
    }
   ],
   "source": [
    "accuracy"
   ],
   "metadata": {
    "collapsed": false
   }
  },
  {
   "cell_type": "markdown",
   "source": [
    "The first two columns are two different patients. 'Predict-18 is a female and 'Predict_vns,' also a female, but has a VNS surgically inserted.\n",
    "\n",
    "The original dataframe have been concatenated so that it contains the 20 seconds before the seizure, the seizure start at line 10239, and the approximately 20 seconds after the seizure. In other words, the seizure start lines up on axis=1 for ease in visualization.\n",
    "\n",
    "THe third column shows where the non-seizure zero rows are and where the seizure one rows are.\n",
    "\n",
    "The Tensorflow model has been trained on a another dataset from the same patient as 'Predict_18' but a year and a half earlier in life.\n",
    "\n",
    "The model was run in a separate .py program and saved as a .h5 file.\n",
    "\n",
    "The 'Predict-18' and 'Predict_vns' dataframes were not seen by the model.\n",
    "\n",
    "The model took almost an hour to train running on a Macbook Pro 2020 M1, ended with a loss closing in on a Plank distance of zero and predicts the new data with 100& accuracy.\n",
    "\n",
    "The original goal was a high-precision model to eliminate false positives.\n",
    "\n",
    "False positives are to be avoided at all costs to avoid real time problems in a hospital scenario.\n"
   ],
   "metadata": {
    "collapsed": false
   }
  },
  {
   "cell_type": "code",
   "execution_count": null,
   "outputs": [],
   "source": [],
   "metadata": {
    "collapsed": false
   }
  }
 ],
 "metadata": {
  "kernelspec": {
   "display_name": "Python 3",
   "language": "python",
   "name": "python3"
  },
  "language_info": {
   "codemirror_mode": {
    "name": "ipython",
    "version": 2
   },
   "file_extension": ".py",
   "mimetype": "text/x-python",
   "name": "python",
   "nbconvert_exporter": "python",
   "pygments_lexer": "ipython2",
   "version": "2.7.6"
  }
 },
 "nbformat": 4,
 "nbformat_minor": 0
}
